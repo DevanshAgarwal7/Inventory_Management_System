{
 "cells": [
  {
   "cell_type": "code",
   "execution_count": 74,
   "metadata": {
    "colab": {
     "base_uri": "https://localhost:8080/"
    },
    "id": "jMp8rJAANd-K",
    "outputId": "26a2c9a8-aace-461d-ecc1-53acec8057e0"
   },
   "outputs": [
    {
     "name": "stdout",
     "output_type": "stream",
     "text": [
      "Enter the product id : 1033\n",
      "Enter the product name : Water Bottle\n",
      "Enter price of product : 550\n",
      "Enter product quantity : 10\n"
     ]
    }
   ],
   "source": [
    "import json\n",
    "\n",
    "\n",
    "record = {}\n",
    "\n",
    "fd = open(\"record.json\",\"r\")\n",
    "r = fd.read()\n",
    "fd.close()\n",
    "\n",
    "record = json.loads(r)\n",
    "\n",
    "#Adding New Record In record.js\n",
    "\n",
    "Prod_id = input(\"Enter the product id : \")\n",
    "name    = input(\"Enter the product name : \")\n",
    "price   = int(input(\"Enter price of product : \"))\n",
    "quantity = int(input(\"Enter product quantity : \"))\n",
    "\n",
    "if (Prod_id not in record.keys()):\n",
    "    record[Prod_id] = {'name':name,'price':price,'quantity':quantity}\n",
    "\n",
    "#Updating the quantity of product if the exixting quantity is less then new input quantity.\n",
    "    \n",
    "if(record[Prod_id]['quantity'] < quantity):\n",
    "  record[Prod_id]['quantity'] = record[Prod_id]['quantity'] + quantity\n",
    "\n",
    "#Saving the data in record.json \n",
    "\n",
    "\n",
    "js = json.dumps(record)\n",
    "fd = open(\"record.json\",\"w\")\n",
    "fd.write(js)\n",
    "fd.close()\n",
    "\n"
   ]
  },
  {
   "cell_type": "markdown",
   "metadata": {
    "id": "NzVqymHSdI0j"
   },
   "source": []
  },
  {
   "cell_type": "code",
   "execution_count": 75,
   "metadata": {
    "colab": {
     "base_uri": "https://localhost:8080/"
    },
    "id": "89A7f4FuO_6N",
    "outputId": "e63420ff-cc91-4f66-92c2-b48015c1765f"
   },
   "outputs": [
    {
     "data": {
      "text/plain": [
       "{'1001': {'name': 'Paties', 'price': 25, 'quantity': 15},\n",
       " '1002': {'name': 'Limca', 'price': 40, 'quantity': 20},\n",
       " '1003': {'name': 'Dairy Milk', 'price': 10, 'quantity': 20},\n",
       " '1004': {'name': 'Pen', 'price': 20, 'quantity': 12},\n",
       " '1005': {'name': 'Coca Cola', 'price': 50, 'quantity': 10},\n",
       " '1006': {'name': 'Frooti', 'price': 75, 'quantity': 7},\n",
       " '1007': {'name': 'Sandwitch', 'price': 25, 'quantity': 10},\n",
       " '1008': {'name': 'Bislary', 'price': 30, 'quantity': 15},\n",
       " '1009': {'name': 'Milk Cake', 'price': 850, 'quantity': 6},\n",
       " '1010': {'name': 'Maggi', 'price': 10, 'quantity': 20},\n",
       " '1011': {'name': 'Notebook', 'price': 60, 'quantity': 13},\n",
       " '1012': {'name': 'Pencil', 'price': 5, 'quantity': 10},\n",
       " '1013': {'name': 'Pastries', 'price': 25, 'quantity': 9},\n",
       " '1014': {'name': 'Bread', 'price': 30, 'quantity': 7},\n",
       " '1015': {'name': 'Pav', 'price': 45, 'quantity': 12},\n",
       " '1016': {'name': 'Lassi', 'price': 20, 'quantity': 10},\n",
       " '1017': {'name': 'Lays', 'price': 20, 'quantity': 40},\n",
       " '1018': {'name': 'Uncle Chips', 'price': 40, 'quantity': 10},\n",
       " '1019': {'name': 'Cake', 'price': 400, 'quantity': 5},\n",
       " '1020': {'name': 'All Out', 'price': 79, 'quantity': 5},\n",
       " '1021': {'name': 'Sanatizer', 'price': 199, 'quantity': 10},\n",
       " '1022': {'name': 'Parle G', 'price': 10, 'quantity': 45},\n",
       " '1023': {'name': 'Butter Bite', 'price': 20, 'quantity': 20},\n",
       " '1024': {'name': 'Mango Bite', 'price': 80, 'quantity': 3},\n",
       " '1025': {'name': 'Rusk', 'price': 65, 'quantity': 6},\n",
       " '1026': {'name': 'Colgate', 'price': 40, 'quantity': 10},\n",
       " '1027': {'name': 'Amul Butter', 'price': 230, 'quantity': 10},\n",
       " '1028': {'name': 'Khatta Meetha Namkeen', 'price': 130, 'quantity': 14},\n",
       " '1029': {'name': 'Lux Soap', 'price': 45, 'quantity': 25},\n",
       " '1030': {'name': 'Shampoo', 'price': 150, 'quantity': 10},\n",
       " '1031': {'name': 'Geometry Box', 'price': 60, 'quantity': 4},\n",
       " '1032': {'name': 'Mazza', 'price': 70, 'quantity': 17},\n",
       " '1033': {'name': 'Water Bottle', 'price': 550, 'quantity': 10}}"
      ]
     },
     "execution_count": 75,
     "metadata": {},
     "output_type": "execute_result"
    }
   ],
   "source": [
    "record"
   ]
  },
  {
   "cell_type": "code",
   "execution_count": null,
   "metadata": {
    "id": "_EbLDAR4B7eQ"
   },
   "outputs": [],
   "source": [
    "|"
   ]
  }
 ],
 "metadata": {
  "colab": {
   "name": "Adding_New_Product_in_IMS.ipynb",
   "provenance": []
  },
  "kernelspec": {
   "display_name": "Python 3",
   "language": "python",
   "name": "python3"
  },
  "language_info": {
   "codemirror_mode": {
    "name": "ipython",
    "version": 3
   },
   "file_extension": ".py",
   "mimetype": "text/x-python",
   "name": "python",
   "nbconvert_exporter": "python",
   "pygments_lexer": "ipython3",
   "version": "3.7.6"
  }
 },
 "nbformat": 4,
 "nbformat_minor": 1
}
