{
  "nbformat": 4,
  "nbformat_minor": 0,
  "metadata": {
    "colab": {
      "name": "Purchase_Product_From_IMS.ipynb",
      "provenance": []
    },
    "kernelspec": {
      "name": "python3",
      "display_name": "Python 3"
    },
    "language_info": {
      "name": "python"
    }
  },
  "cells": [
    {
      "cell_type": "code",
      "metadata": {
        "colab": {
          "base_uri": "https://localhost:8080/"
        },
        "id": "8slYlXKjQRXv",
        "outputId": "a3d752d6-3f31-4dcc-bf1a-356264be6192"
      },
      "source": [
        "import json\n",
        "\n",
        "import time\n",
        "\n",
        "fd = open(\"record.json\",\"r\")\n",
        "r  = fd.read()\n",
        "fd.close()\n",
        "\n",
        "records = json.loads(r)\n",
        "print(\"*******************************************************************************\")\n",
        "print(\"We only selling few products. Woulg you like to buy something?\")\n",
        "print(\"-------------------------------------------------------------------------------\")\n",
        "print(\"This is the list of the products.\")\n",
        "print(\"-------------------------------------------------------------------------------\")\n",
        "print(time.ctime())\n",
        "print(\"*******************************************************************************\")\n",
        "print(\"\\n\")\n",
        "\n",
        "#Print The List Of The Products\n",
        "\n",
        "records "
      ],
      "execution_count": 62,
      "outputs": [
        {
          "output_type": "stream",
          "name": "stdout",
          "text": [
            "*******************************************************************************\n",
            "We only selling few products. Woulg you like to buy something?\n",
            "-------------------------------------------------------------------------------\n",
            "This is the list of the products.\n",
            "-------------------------------------------------------------------------------\n",
            "Sun Sep  5 17:39:17 2021\n",
            "*******************************************************************************\n",
            "\n",
            "\n"
          ]
        },
        {
          "output_type": "execute_result",
          "data": {
            "text/plain": [
              "{'1001': {'name': 'Paties', 'price': 25, 'quantity': 13},\n",
              " '1002': {'name': 'Limca', 'price': 40, 'quantity': 19},\n",
              " '1003': {'name': 'Dairy Milk', 'price': 10, 'quantity': 16},\n",
              " '1004': {'name': 'Pen', 'price': 20, 'quantity': 12},\n",
              " '1005': {'name': 'Coca Cola', 'price': 50, 'quantity': 10},\n",
              " '1006': {'name': 'Frooti', 'price': 75, 'quantity': 7},\n",
              " '1007': {'name': 'Sandwitch', 'price': 25, 'quantity': 10},\n",
              " '1008': {'name': 'Bislary', 'price': 30, 'quantity': 13},\n",
              " '1009': {'name': 'Milk Cake', 'price': 850, 'quantity': 3},\n",
              " '1010': {'name': 'Maggi', 'price': 10, 'quantity': 20},\n",
              " '1011': {'name': 'Notebook', 'price': 60, 'quantity': 13},\n",
              " '1012': {'name': 'Pencil', 'price': 5, 'quantity': 10},\n",
              " '1013': {'name': 'Pastries', 'price': 25, 'quantity': 9},\n",
              " '1014': {'name': 'Bread', 'price': 30, 'quantity': 6},\n",
              " '1015': {'name': 'Pav', 'price': 45, 'quantity': 12},\n",
              " '1016': {'name': 'Lassi', 'price': 20, 'quantity': 10},\n",
              " '1017': {'name': 'Lays', 'price': 20, 'quantity': 40},\n",
              " '1018': {'name': 'Uncle Chips', 'price': 40, 'quantity': 8},\n",
              " '1019': {'name': 'Cake', 'price': 400, 'quantity': 5},\n",
              " '1020': {'name': 'All Out', 'price': 79, 'quantity': 5},\n",
              " '1021': {'name': 'Sanatizer', 'price': 199, 'quantity': 10},\n",
              " '1022': {'name': 'Parle G', 'price': 10, 'quantity': 45},\n",
              " '1023': {'name': 'Butter Bite', 'price': 20, 'quantity': 20},\n",
              " '1024': {'name': 'Mango Bite', 'price': 80, 'quantity': 0},\n",
              " '1025': {'name': 'Rusk', 'price': 65, 'quantity': 6},\n",
              " '1026': {'name': 'Colgate', 'price': 40, 'quantity': 10},\n",
              " '1027': {'name': 'Amul Butter', 'price': 230, 'quantity': 10},\n",
              " '1028': {'name': 'Khatta Meetha Namkeen', 'price': 130, 'quantity': 14},\n",
              " '1029': {'name': 'Lux Soap', 'price': 45, 'quantity': 25},\n",
              " '1030': {'name': 'Shampoo', 'price': 150, 'quantity': 8},\n",
              " '1031': {'name': 'Geometry Box', 'price': 60, 'quantity': 4},\n",
              " '1032': {'name': 'Mazza', 'price': 70, 'quantity': 17},\n",
              " '1033': {'name': 'Water Bottle', 'price': 550, 'quantity': 10}}"
            ]
          },
          "metadata": {},
          "execution_count": 62
        }
      ]
    },
    {
      "cell_type": "code",
      "metadata": {
        "colab": {
          "base_uri": "https://localhost:8080/"
        },
        "id": "rYVihiSibtT5",
        "outputId": "cb2f160d-d220-4599-eee1-b9f2bed9a69e"
      },
      "source": [
        "#Getting the details of the product from the customer.\n",
        "\n",
        "ui_prod = input(\"Enter the product id of the product : \")\n",
        "qn_prod = int(input(\"Enter the number of quantity/quantities of product you want to buy : \"))\n",
        "\n",
        "if(ui_prod not in records.keys()):\n",
        "  print(\"**************************************************************\")\n",
        "  print(\"--------------------------------------------------------------\")\n",
        "  print(\"The Product with product id\",ui_prod,\"is not available.\")\n",
        "  print(\"Sorry For Inconvenience\")\n",
        "  print(\"--------------------------------------------------------------\")\n",
        "  print(time.ctime())\n",
        "  print(\"**************************************************************\")\n",
        "\n",
        "\n",
        "#Printing the bill of the product.\n",
        "\n",
        "if(ui_prod in records.keys()):\n",
        "  if(records[ui_prod]['quantity'] == 0):\n",
        "    print(\"****************************************************************\")\n",
        "    print(\"----------------------------------------------------------------\")\n",
        "    print(\"Currently\",records[ui_prod]['name'],\"is Out Of Stock.\")\n",
        "    print(\"Sorry For Inconvenience\")\n",
        "    print(\"----------------------------------------------------------------\")\n",
        "    print(time.ctime())\n",
        "    print(\"****************************************************************\")\n",
        "\n",
        "  else:\n",
        "    if(qn_prod > records[ui_prod]['quantity']):\n",
        "      print(\"*********************************************************************************\")\n",
        "      print(\"---------------------------------------------------------------------------------\")\n",
        "      print(\"Currently\",records[ui_prod]['quantity'],records[ui_prod]['name'],\"is available.\")\n",
        "      print(\"If you want to buy\",records[ui_prod]['quantity'],records[ui_prod]['name'],\"place order again.\")\n",
        "      print(\"---------------------------------------------------------------------------------\")\n",
        "      print(time.ctime())\n",
        "      print(\"*********************************************************************************\")\n",
        "\n",
        "    else:\n",
        "      print(\"***************************************************************************************\")\n",
        "      print(\"Product ID               : \",ui_prod)\n",
        "      print(\"Product Name             : \",records[ui_prod]['name'])\n",
        "      print(\"Product Price            : \",records[ui_prod]['price'])\n",
        "      print(\"Product Quantity You Buy : \",qn_prod)\n",
        "      print(\"---------------------------------------------------------------------------------------\")\n",
        "      print(\"Total Amount             : \",records[ui_prod]['price']*qn_prod)\n",
        "      print(\"---------------------------------------------------------------------------------------\")\n",
        "      print(\"Thanks For Purchasing. Visit Again.\")\n",
        "      print(time.ctime())\n",
        "      print(\"***************************************************************************************\")\n",
        "\n",
        "      records[ui_prod]['quantity'] = records[ui_prod]['quantity'] - qn_prod\n",
        "      js = json.dumps(records)\n",
        "      fd = open(\"record.json\",\"w\")\n",
        "      fd.write(js)\n",
        "      fd.close()\n",
        "\n",
        "      fd = open(\"Sales.json\",\"r\")\n",
        "      r = fd.read()\n",
        "      fd.close()\n",
        "      sale = json.loads(r)\n",
        "      inn = (len(sale)) + 1\n",
        "      sale[inn] = {'Transaction ID':str(inn),'Product Name':records[ui_prod]['name'],'Product ID':ui_prod,'Quantity Sales':qn_prod,'Total Amount':records[ui_prod]['price'] * qn_prod}\n",
        "\n",
        "      js = json.dumps(sale)\n",
        "      fd = open(\"Sales.json\",\"w\")\n",
        "      fd.write(js)\n",
        "      fd.close()\n"
      ],
      "execution_count": 60,
      "outputs": [
        {
          "output_type": "stream",
          "name": "stdout",
          "text": [
            "Enter the product id of the product : 1018\n",
            "Enter the number of quantity/quantities of product you want to buy : 2\n",
            "***************************************************************************************\n",
            "Product ID               :  1018\n",
            "Product Name             :  Uncle Chips\n",
            "Product Price            :  40\n",
            "Product Quantity You Buy :  2\n",
            "---------------------------------------------------------------------------------------\n",
            "Total Amount             :  80\n",
            "---------------------------------------------------------------------------------------\n",
            "Thanks For Purchasing. Visit Again.\n",
            "Sun Sep  5 17:38:43 2021\n",
            "***************************************************************************************\n"
          ]
        }
      ]
    },
    {
      "cell_type": "code",
      "metadata": {
        "colab": {
          "base_uri": "https://localhost:8080/"
        },
        "id": "4S8mJFg0xxM_",
        "outputId": "bc22c11e-744c-498a-b800-716203e1994f"
      },
      "source": [
        "fd = open(\"Sales.json\",\"r\")\n",
        "r = fd.read()\n",
        "fd.close()\n",
        "sale = json.loads(r)\n",
        "sale\n"
      ],
      "execution_count": 61,
      "outputs": [
        {
          "output_type": "execute_result",
          "data": {
            "text/plain": [
              "{'1': {'Product ID': '1001',\n",
              "  'Product Name': 'Paties',\n",
              "  'Quantity Sales': 2,\n",
              "  'Total Amount': 50,\n",
              "  'Transaction ID': '1'},\n",
              " '10': {'Product ID': '1018',\n",
              "  'Product Name': 'Uncle Chips',\n",
              "  'Quantity Sales': 2,\n",
              "  'Total Amount': 80,\n",
              "  'Transaction ID': '10'},\n",
              " '2': {'Product ID': '1014',\n",
              "  'Product Name': 'Bread',\n",
              "  'Quantity Sales': 1,\n",
              "  'Total Amount': 30,\n",
              "  'Transaction ID': '2'},\n",
              " '3': {'Product ID': '1024',\n",
              "  'Product Name': 'Mango Bite',\n",
              "  'Quantity Sales': 2,\n",
              "  'Total Amount': 160,\n",
              "  'Transaction ID': '3'},\n",
              " '4': {'Product ID': '1030',\n",
              "  'Product Name': 'Shampoo',\n",
              "  'Quantity Sales': 2,\n",
              "  'Total Amount': 300,\n",
              "  'Transaction ID': '4'},\n",
              " '5': {'Product ID': '1009',\n",
              "  'Product Name': 'Milk Cake',\n",
              "  'Quantity Sales': 3,\n",
              "  'Total Amount': 2550,\n",
              "  'Transaction ID': '5'},\n",
              " '6': {'Product ID': '1024',\n",
              "  'Product Name': 'Mango Bite',\n",
              "  'Quantity Sales': 1,\n",
              "  'Total Amount': 80,\n",
              "  'Transaction ID': '6'},\n",
              " '7': {'Product ID': '1008',\n",
              "  'Product Name': 'Bislary',\n",
              "  'Quantity Sales': 2,\n",
              "  'Total Amount': 60,\n",
              "  'Transaction ID': '7'},\n",
              " '8': {'Product ID': '1003',\n",
              "  'Product Name': 'Dairy Milk',\n",
              "  'Quantity Sales': 4,\n",
              "  'Total Amount': 40,\n",
              "  'Transaction ID': '8'},\n",
              " '9': {'Product ID': '1002',\n",
              "  'Product Name': 'Limca',\n",
              "  'Quantity Sales': 1,\n",
              "  'Total Amount': 40,\n",
              "  'Transaction ID': '9'}}"
            ]
          },
          "metadata": {},
          "execution_count": 61
        }
      ]
    },
    {
      "cell_type": "code",
      "metadata": {
        "id": "kDbmdfQB2Fdx"
      },
      "source": [
        ""
      ],
      "execution_count": null,
      "outputs": []
    }
  ]
}